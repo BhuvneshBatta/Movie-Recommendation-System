{
 "cells": [
  {
   "cell_type": "code",
   "execution_count": null,
   "metadata": {},
   "outputs": [],
   "source": [
    "import pandas as pd\n",
    "import re\n",
    "from sklearn.feature_extraction.text import TfidfVectorizer\n",
    "from sklearn.preprocessing import MultiLabelBinarizer\n",
    "from sklearn.metrics.pairwise import cosine_similarity\n",
    "import numpy as np\n",
    "import ipywidgets as widgets\n",
    "from IPython.display import display\n",
    "import matplotlib.pyplot as plt\n"
   ]
  },
  {
   "cell_type": "code",
   "execution_count": null,
   "metadata": {},
   "outputs": [],
   "source": [
    "def clean_title(title):\n",
    "    #[^a-zA-Z0-9 ] matches anything that is not a letter (a-z or A-Z), a digit (0-9), or a space.\n",
    "    #The replacement is an empty string, meaning any matched character will be removed.\n",
    "    return re.sub(\"[^a-zA-Z0-9 ]\", \"\",title)"
   ]
  },
  {
   "cell_type": "code",
   "execution_count": null,
   "metadata": {},
   "outputs": [],
   "source": [
    "# Load df and Ratings Data\n",
    "\n",
    "df = pd.read_csv('movies.csv')  # Load the df dataset\n",
    "ratings = pd.read_csv('ratings.csv')  # Load the ratings dataset\n",
    "\n",
    "# Clean Movie Titles\n",
    "df['clean_title'] = df['title'].apply(clean_title)\n",
    "\n",
    "# Compute Average Ratings\n",
    "movie_avg_ratings = ratings.groupby('movieId')['rating'].mean()\n",
    "df['average_rating'] = df['movieId'].map(movie_avg_ratings)\n",
    "\n",
    "# Replace NaN values with 0 for df with no ratings\n",
    "df['average_rating'] = df['average_rating'].fillna(0)"
   ]
  },
  {
   "cell_type": "code",
   "execution_count": null,
   "metadata": {},
   "outputs": [],
   "source": [
    "vectorizer = TfidfVectorizer(ngram_range = (1,2))\n",
    "tfdif = vectorizer.fit_transform(df[\"clean_title\"])\n",
    "\n",
    "# Extract genres into lists\n",
    "df['genres_list'] = df['genres'].str.split('|')\n",
    "\n",
    "# One-hot encode genres\n",
    "mlb = MultiLabelBinarizer()\n",
    "genre_matrix = mlb.fit_transform(df['genres_list'])  # Create genre matrix\n",
    "\n",
    "# Compute genre-based similarity\n",
    "genre_similarity = cosine_similarity(genre_matrix)\n",
    "\n",
    "# Optional: Combine TF-IDF similarity and genre similarity\n",
    "def combined_similarity(tfidf_similarity, genre_weight=0.5):\n",
    "    # Normalize genre similarity\n",
    "    norm_genre_similarity = genre_similarity / genre_similarity.max()\n",
    "    return (1 - genre_weight) * tfidf_similarity + genre_weight * norm_genre_similarity"
   ]
  },
  {
   "cell_type": "code",
   "execution_count": null,
   "metadata": {},
   "outputs": [],
   "source": [
    "def search(title):\n",
    "    title = clean_title(title)\n",
    "    query_vec = vectorizer.transform([title])\n",
    "    similarity = cosine_similarity(query_vec, tfdif).flatten()\n",
    "    indices = np.argpartition(similarity, -5)[-5:]\n",
    "    results = df.iloc[indices][::-1]\n",
    "    if results.empty:\n",
    "        return pd.DataFrame(columns=[\"movieId\", \"title\", \"genres\"])  # Empty DataFrame\n",
    "    return results"
   ]
  },
  {
   "cell_type": "code",
   "execution_count": null,
   "metadata": {},
   "outputs": [],
   "source": [
    "def find_similar_movies(movie_id): \n",
    "    similar_users = ratings[(ratings[\"movieId\"] == movie_id) & (ratings[\"rating\"] > 4)][\"userId\"].unique()\n",
    "    similar_user_recs = ratings[(ratings[\"userId\"].isin(similar_users)) & (ratings[\"rating\"] > 4)][\"movieId\"]\n",
    "    similar_user_recs = similar_user_recs.value_counts() / len(similar_users)\n",
    "\n",
    "    similar_user_recs = similar_user_recs[similar_user_recs > .10]\n",
    "    all_users = ratings[(ratings[\"movieId\"].isin(similar_user_recs.index)) & (ratings[\"rating\"] > 4)]\n",
    "    all_user_recs = all_users[\"movieId\"].value_counts() / len(all_users[\"userId\"].unique())\n",
    "    rec_percentages = pd.concat([similar_user_recs, all_user_recs], axis=1)\n",
    "    rec_percentages.columns = [\"similar\", \"all\"]\n",
    "    \n",
    "    rec_percentages[\"score\"] = rec_percentages[\"similar\"] / rec_percentages[\"all\"]\n",
    "    rec_percentages = rec_percentages.sort_values(\"score\", ascending=False)\n",
    "    return rec_percentages.head(10).merge(df, left_index=True, right_on=\"movieId\")[[\"score\", \"title\", \"genres\"]]"
   ]
  },
  {
   "cell_type": "code",
   "execution_count": null,
   "metadata": {},
   "outputs": [],
   "source": [
    "# Input Widget\n",
    "movie_name_input = widgets.Text(\n",
    "    value='',\n",
    "    description='Movie Title:',\n",
    "    disabled=False\n",
    ")\n",
    "recommendation_list = widgets.Output()\n",
    "\n",
    "# Visualization Function\n",
    "def visualize_recommendations(rec_percentages, num_recommendations=5):\n",
    "    \"\"\"Visualize the top N recommended movies as a bar chart.\"\"\"\n",
    "    top_movies = rec_percentages.head(num_recommendations)  # Get top N movies\n",
    "\n",
    "    # Create horizontal bar chart\n",
    "    plt.barh(top_movies['title'], top_movies['score'], color='skyblue')\n",
    "    plt.xlabel('Recommendation Score')\n",
    "    plt.ylabel('Movie Title')\n",
    "    plt.title(f'Top {num_recommendations} Recommended Movies')\n",
    "    plt.gca().invert_yaxis()  # Invert y-axis for better readability\n",
    "    plt.show()\n",
    "\n",
    "# Widget Callback\n",
    "def on_type(data):\n",
    "    with recommendation_list:\n",
    "        recommendation_list.clear_output()\n",
    "        title = data[\"new\"]\n",
    "        if len(title) > 5:\n",
    "            # Search for similar movies\n",
    "            results = search(title)\n",
    "            movie_id = results.iloc[0][\"movieId\"]\n",
    "            recommendations = find_similar_movies(movie_id)\n",
    "            \n",
    "            if recommendations.empty:\n",
    "                fallback = df.nlargest(10, 'average_rating')[[\"title\", \"genres\"]]\n",
    "                fallback = fallback.reset_index()  # Reset the index and add it as a column\n",
    "                fallback.rename(columns={\"index\": \"Index\"}, inplace=True)  # Rename the index column to \"Index\"\n",
    "                \n",
    "                print(\"No personalized recommendations found. Showing highly rated movies instead:\")\n",
    "                display(fallback)\n",
    "                return\n",
    "\n",
    "            # Visualize Recommendations\n",
    "            visualize_recommendations(recommendations)\n",
    "            \n",
    "            # Display Recommendations\n",
    "            display(recommendations)\n",
    "\n",
    "# Observe User Input\n",
    "movie_name_input.observe(on_type, names='value')\n",
    "\n",
    "# Display Widgets\n",
    "display(movie_name_input, recommendation_list)"
   ]
  }
 ],
 "metadata": {
  "kernelspec": {
   "display_name": "Python 3",
   "language": "python",
   "name": "python3"
  },
  "language_info": {
   "codemirror_mode": {
    "name": "ipython",
    "version": 3
   },
   "file_extension": ".py",
   "mimetype": "text/x-python",
   "name": "python",
   "nbconvert_exporter": "python",
   "pygments_lexer": "ipython3",
   "version": "3.9.6"
  },
  "orig_nbformat": 4
 },
 "nbformat": 4,
 "nbformat_minor": 2
}
